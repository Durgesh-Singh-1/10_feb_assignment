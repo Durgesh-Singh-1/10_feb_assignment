{
 "cells": [
  {
   "cell_type": "code",
   "execution_count": 1,
   "id": "facc0dc9-33f1-4b02-83a9-37e69768a91f",
   "metadata": {},
   "outputs": [],
   "source": [
    "# 1 ans "
   ]
  },
  {
   "cell_type": "code",
   "execution_count": 3,
   "id": "0cb72e0c-1ec1-4120-ae73-6c13581437a6",
   "metadata": {},
   "outputs": [
    {
     "data": {
      "text/plain": [
       "'The function used to open a file is open(). The different modes of opening a file are \"read\" mode, \"write\" mode, \"append\" mode, and \"read/write\" mode.\\n\\nExplanation:\\n\\n\"read mode: Allows only reading of file data.\\nwrite mode: Allows only writing of data into a file, overwriting the file content if it already exists.\\nappend mode: Allows writing of data into a file, without overwriting the existing content.\\nread/write mode: Allows both reading and writing of file data.\\n'"
      ]
     },
     "execution_count": 3,
     "metadata": {},
     "output_type": "execute_result"
    }
   ],
   "source": [
    "\"\"\"The function used to open a file is open(). The different modes of opening a file are \"read\" mode, \"write\" mode, \"append\" mode, and \"read/write\" mode.\n",
    "\n",
    "Explanation:\n",
    "\n",
    "\"read mode: Allows only reading of file data.\n",
    "write mode: Allows only writing of data into a file, overwriting the file content if it already exists.\n",
    "append mode: Allows writing of data into a file, without overwriting the existing content.\n",
    "read/write mode: Allows both reading and writing of file data.\n",
    "\"\"\""
   ]
  },
  {
   "cell_type": "code",
   "execution_count": 4,
   "id": "7dd852f3-306c-45a3-9039-51a783f7b6cf",
   "metadata": {},
   "outputs": [],
   "source": [
    "# 2 ans :-"
   ]
  },
  {
   "cell_type": "code",
   "execution_count": 5,
   "id": "670fc3bc-76c4-4890-85e1-031409b686d1",
   "metadata": {},
   "outputs": [
    {
     "data": {
      "text/plain": [
       "'The \"close()\" function is used to close an opened file in the program. It is important to close a file because it releases the resources being used by the file and ensures that all data is written to the file properly.'"
      ]
     },
     "execution_count": 5,
     "metadata": {},
     "output_type": "execute_result"
    }
   ],
   "source": [
    "'''The \"close()\" function is used to close an opened file in the program. It is important to close a file because it releases the resources being used by the file and ensures that all data is written to the file properly.'''"
   ]
  },
  {
   "cell_type": "code",
   "execution_count": 6,
   "id": "25b8dd5c-959a-4fd3-8166-a0d2174e7de5",
   "metadata": {},
   "outputs": [],
   "source": [
    "# 3 ans :-"
   ]
  },
  {
   "cell_type": "code",
   "execution_count": 7,
   "id": "cef29fc7-ef09-4843-805e-e489421386f2",
   "metadata": {},
   "outputs": [
    {
     "name": "stdout",
     "output_type": "stream",
     "text": [
      "I want to become a Data Scientist\n"
     ]
    }
   ],
   "source": [
    "file = open(\"data_scientist.txt\", \"w\")\n",
    "file.write(\"I want to become a Data Scientist\")\n",
    "\n",
    "file.close()\n",
    "\n",
    "file = open(\"data_scientist.txt\", \"r\")\n",
    "\n",
    "content = file.read()\n",
    "\n",
    "print(content)\n",
    "\n",
    "file.close()\n"
   ]
  },
  {
   "cell_type": "code",
   "execution_count": 8,
   "id": "800ea6f8-7671-48bb-b06b-13da2c1b433e",
   "metadata": {},
   "outputs": [],
   "source": [
    "# 4 ans :-"
   ]
  },
  {
   "cell_type": "code",
   "execution_count": 14,
   "id": "2362731e-46be-4bf9-967e-1543a27322e1",
   "metadata": {},
   "outputs": [
    {
     "data": {
      "text/plain": [
       "' read(): The entire content of the file as a string.\\n readline(): The first line of the file as a string (in line1 variable) and the second line of the file as a string (in line2 variable).\\n readlines(): A list of strings where each element of the list is a line from the file.'"
      ]
     },
     "execution_count": 14,
     "metadata": {},
     "output_type": "execute_result"
    }
   ],
   "source": [
    "''' read(): The entire content of the file as a string.\n",
    " readline(): The first line of the file as a string (in line1 variable) and the second line of the file as a string (in line2 variable).\n",
    " readlines(): A list of strings where each element of the list is a line from the file.'''"
   ]
  },
  {
   "cell_type": "code",
   "execution_count": 15,
   "id": "b2c5b8dd-34fc-46ff-a58f-bbad9baa15b8",
   "metadata": {},
   "outputs": [],
   "source": [
    "# 5 ans :- "
   ]
  },
  {
   "cell_type": "code",
   "execution_count": 17,
   "id": "f5c58c6b-a339-4ed0-98a8-d952d19fa93f",
   "metadata": {},
   "outputs": [
    {
     "data": {
      "text/plain": [
       "'The with statement is used with the open() function in Python to automatically handle the opening and closing of files. It provides a way to ensure that a file is closed properly after its use, even if an exception occurs while the file is being processed.\\n\\nThe advantage of using with statement and open() together is that it simplifies the syntax and makes the code easier to read and maintain. It also helps prevent errors that can occur when files are not closed properly, such as memory leaks or file corruption. Additionally, the with statement is more efficient than manually opening and closing files, as it automatically releases the resources used by the file after its use.\\n'"
      ]
     },
     "execution_count": 17,
     "metadata": {},
     "output_type": "execute_result"
    }
   ],
   "source": [
    "'''The with statement is used with the open() function in Python to automatically handle the opening and closing of files. It provides a way to ensure that a file is closed properly after its use, even if an exception occurs while the file is being processed.\n",
    "\n",
    "The advantage of using with statement and open() together is that it simplifies the syntax and makes the code easier to read and maintain. It also helps prevent errors that can occur when files are not closed properly, such as memory leaks or file corruption. Additionally, the with statement is more efficient than manually opening and closing files, as it automatically releases the resources used by the file after its use.\n",
    "'''"
   ]
  },
  {
   "cell_type": "code",
   "execution_count": 18,
   "id": "89618a16-0c7f-47cb-9f60-32121d6c86aa",
   "metadata": {},
   "outputs": [],
   "source": [
    "# 6 ans :- "
   ]
  },
  {
   "cell_type": "code",
   "execution_count": 19,
   "id": "b4399cd3-aeda-47e1-a994-3e00a1fc1cb8",
   "metadata": {},
   "outputs": [
    {
     "data": {
      "text/plain": [
       "'The write() and writelines() functions are used to write data to a file in Python.'"
      ]
     },
     "execution_count": 19,
     "metadata": {},
     "output_type": "execute_result"
    }
   ],
   "source": [
    "'''The write() and writelines() functions are used to write data to a file in Python.'''"
   ]
  },
  {
   "cell_type": "code",
   "execution_count": 22,
   "id": "f2c0d449-9774-47a4-9b50-27072a653918",
   "metadata": {},
   "outputs": [],
   "source": [
    "# Open a file for writing\n",
    "with open('example.txt', 'w') as f:\n",
    "    f.write('Hello, world!\\n')\n",
    "    f.write('This is an example file.\\n')\n"
   ]
  },
  {
   "cell_type": "code",
   "execution_count": 23,
   "id": "c165310a-df43-4b04-8152-04990e3d8f94",
   "metadata": {},
   "outputs": [],
   "source": [
    "with open('example.txt', 'w') as f:\n",
    "    f.writelines(['Line 1\\n', 'Line 2\\n', 'Line 3\\n'])\n"
   ]
  }
 ],
 "metadata": {
  "kernelspec": {
   "display_name": "Python 3 (ipykernel)",
   "language": "python",
   "name": "python3"
  },
  "language_info": {
   "codemirror_mode": {
    "name": "ipython",
    "version": 3
   },
   "file_extension": ".py",
   "mimetype": "text/x-python",
   "name": "python",
   "nbconvert_exporter": "python",
   "pygments_lexer": "ipython3",
   "version": "3.10.8"
  }
 },
 "nbformat": 4,
 "nbformat_minor": 5
}
